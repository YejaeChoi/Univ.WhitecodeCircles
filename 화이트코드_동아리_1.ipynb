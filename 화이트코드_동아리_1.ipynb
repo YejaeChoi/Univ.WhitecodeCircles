{
  "nbformat": 4,
  "nbformat_minor": 0,
  "metadata": {
    "colab": {
      "name": "WhitecodeCircles_OT.ipynb",
      "provenance": [],
      "collapsed_sections": [],
      "authorship_tag": "ABX9TyPGapmCwWJBl8lGyOt4gPme",
      "include_colab_link": true
    },
    "kernelspec": {
      "name": "python3",
      "display_name": "Python 3"
    },
    "language_info": {
      "name": "python"
    }
  },
  "cells": [
    {
      "cell_type": "markdown",
      "metadata": {
        "id": "view-in-github",
        "colab_type": "text"
      },
      "source": [
        "<a href=\"https://colab.research.google.com/github/YejaeChoi/WhitecodeCircles/blob/main/%ED%99%94%EC%9D%B4%ED%8A%B8%EC%BD%94%EB%93%9C_%EB%8F%99%EC%95%84%EB%A6%AC_1.ipynb\" target=\"_parent\"><img src=\"https://colab.research.google.com/assets/colab-badge.svg\" alt=\"Open In Colab\"/></a>"
      ]
    },
    {
      "cell_type": "code",
      "execution_count": 14,
      "metadata": {
        "colab": {
          "base_uri": "https://localhost:8080/"
        },
        "id": "1eCRFMJSe2PU",
        "outputId": "353f0c70-4735-4251-bac9-9749a48226a9"
      },
      "outputs": [
        {
          "output_type": "stream",
          "name": "stdout",
          "text": [
            "print안에 내용을 쓴다\n",
            "10, 20, 30\n",
            "a + b + c\n",
            "10, 20, 30\n"
          ]
        }
      ],
      "source": [
        "# 파이썬\n",
        "\n",
        "#파이썬 출력\n",
        "print(\"print안에 내용을 쓴다\")\n",
        "\n",
        "a = 10\n",
        "b = 20\n",
        "c = 30\n",
        "print(f\"{a}, {b}, {c}\")\n",
        "print(\"a + b + c\")\n",
        "\n",
        "#응용\n",
        "d = f\"{a}, {b}, {c}\"\n",
        "print(d)\n",
        "\n",
        "# 출력\n"
      ]
    },
    {
      "cell_type": "code",
      "source": [
        "# 리스트 <- 자료를 저장함 = c언어으 배열\n",
        "\n",
        "result = []\n",
        "\n",
        "# 프로그램 내에서 결과값을 저장할 때 리스트가 사용된다.\n",
        "for i in range(10):\n",
        "  for k in range(3):\n",
        "    result.append(i+k)\n",
        "print(result)\n",
        "\n",
        "# 다음과 같이 결과를 저장\n",
        "# 왜 저장?\n",
        "# 결과를 출력 or 다른 라이브러리의 인자 값 전달을 위해서\n",
        "# 일반적으로 개발자들은 아래의 리스트 구문을 더 선호함\n",
        "result2 = []\n",
        "for i in range(10):\n",
        "  for k in range(3):\n",
        "    result2 += [i+k]\n",
        "  print(result2)\n",
        "  \n",
        "# 사전형 <- 자료를 매핑 시킴 = 매우 중요, 그저 매핑시켜주는 리스트가 아닌\n",
        "# 왼쪽이 key값\n",
        "# 오른쪽이 value값\n",
        "# key와 value의 관계를 mapping 관계라고 표현\n",
        "# 리턴값으로 자주 사용, \n",
        "dic = {\n",
        "    'a' : 10,\n",
        "    'b' : 20,\n",
        "    'c' : 30,\n",
        "}\n",
        "\n",
        "print(dic['a'])"
      ],
      "metadata": {
        "colab": {
          "base_uri": "https://localhost:8080/"
        },
        "id": "fLaZi7Nsf155",
        "outputId": "82bb124b-6e86-4f70-d4c7-fb67d28fc571"
      },
      "execution_count": 15,
      "outputs": [
        {
          "output_type": "stream",
          "name": "stdout",
          "text": [
            "[0, 1, 2, 1, 2, 3, 2, 3, 4, 3, 4, 5, 4, 5, 6, 5, 6, 7, 6, 7, 8, 7, 8, 9, 8, 9, 10, 9, 10, 11]\n",
            "[0, 1, 2]\n",
            "[0, 1, 2, 1, 2, 3]\n",
            "[0, 1, 2, 1, 2, 3, 2, 3, 4]\n",
            "[0, 1, 2, 1, 2, 3, 2, 3, 4, 3, 4, 5]\n",
            "[0, 1, 2, 1, 2, 3, 2, 3, 4, 3, 4, 5, 4, 5, 6]\n",
            "[0, 1, 2, 1, 2, 3, 2, 3, 4, 3, 4, 5, 4, 5, 6, 5, 6, 7]\n",
            "[0, 1, 2, 1, 2, 3, 2, 3, 4, 3, 4, 5, 4, 5, 6, 5, 6, 7, 6, 7, 8]\n",
            "[0, 1, 2, 1, 2, 3, 2, 3, 4, 3, 4, 5, 4, 5, 6, 5, 6, 7, 6, 7, 8, 7, 8, 9]\n",
            "[0, 1, 2, 1, 2, 3, 2, 3, 4, 3, 4, 5, 4, 5, 6, 5, 6, 7, 6, 7, 8, 7, 8, 9, 8, 9, 10]\n",
            "[0, 1, 2, 1, 2, 3, 2, 3, 4, 3, 4, 5, 4, 5, 6, 5, 6, 7, 6, 7, 8, 7, 8, 9, 8, 9, 10, 9, 10, 11]\n",
            "10\n"
          ]
        }
      ]
    },
    {
      "cell_type": "code",
      "source": [
        "import numpy as np\n",
        "\n",
        "# add 함수를 만듭니다.\n",
        "# a = [1, 2, 3]\n",
        "# b = [2, 3, 4]\n",
        "# r = a + b\n",
        "\n",
        "def add(a, b):\n",
        "  # a와 b는 리스트입니다/\n",
        "  # a + b = [3, 5, 7] <-\n",
        "  # r = 3 + 5 + 7 = 15 <-\n",
        "  a = np.array(a)\n",
        "  b = np.array(b)\n",
        "  r = a + b\n",
        "\n",
        "  return {\n",
        "      'array' : r,\n",
        "      'array_sum' : r.sum()\n",
        "  }"
      ],
      "metadata": {
        "id": "Wk2M1Bv4gpas"
      },
      "execution_count": 16,
      "outputs": []
    },
    {
      "cell_type": "code",
      "source": [
        "# 문자열 출력\n",
        "# 리스트 <- 결과 저장\n",
        "# 사전형 <- 리턴할 때 사용\n",
        "# 반복문 <- for, while\n",
        "# 코드를 짤 때 일반적으로 while문 보다는 for문을 더 자주 사용, 왜? 가독성, 깃에 올렸을 때 상대방이 더 쉽게 이해 가능\n",
        "# while\n",
        "# 프로그램 무한 반복 용도\n",
        "while(1):\n",
        "  #화면 킴\n",
        "  #방향 조절\n",
        "  #무한반복\n",
        "  break"
      ],
      "metadata": {
        "id": "uGaNZzmeiu2F"
      },
      "execution_count": 17,
      "outputs": []
    },
    {
      "cell_type": "code",
      "source": [
        "for i in range(0, 10):\n",
        "  pass\n",
        "\n",
        "for i in range(10):\n",
        "  pass\n",
        "\n",
        "for i in range(0, 10, 1):\n",
        "  pass"
      ],
      "metadata": {
        "id": "SMu3BM43jT0c"
      },
      "execution_count": 19,
      "outputs": []
    },
    {
      "cell_type": "code",
      "source": [
        "a = [i for i in range(10)]\n",
        "print(a)\n",
        "\n",
        "for i, _ in enumerate(a): #언더스코어는 인자값이 필요하지 않은 경우에 사용, 인자값이 필요하지 않다는 의미를 담는다. 사용자들의 약속\n",
        "  # i <- index\n",
        "  # _ <- 실제 값\n",
        "  print(i, end = ' ')"
      ],
      "metadata": {
        "colab": {
          "base_uri": "https://localhost:8080/"
        },
        "id": "uci-Gc1ajtFQ",
        "outputId": "835a31db-4ecb-4b7b-b103-c0c46e0b1876"
      },
      "execution_count": 13,
      "outputs": [
        {
          "output_type": "stream",
          "name": "stdout",
          "text": [
            "[0, 1, 2, 3, 4, 5, 6, 7, 8, 9]\n",
            "0 1 2 3 4 5 6 7 8 9 "
          ]
        }
      ]
    },
    {
      "cell_type": "code",
      "source": [
        "# 클래스\n",
        "# class는 어떠한 큰 덩어리, 함순데 여러가지 기능이 더 추가된 함수???\n",
        "# 내부적인 요소들은 조정 가능"
      ],
      "metadata": {
        "id": "xp9E9CKNjs4V"
      },
      "execution_count": 20,
      "outputs": []
    },
    {
      "cell_type": "code",
      "source": [
        ""
      ],
      "metadata": {
        "id": "P5dADDswjtQ1"
      },
      "execution_count": null,
      "outputs": []
    }
  ]
}
